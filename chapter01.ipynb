{
 "cells": [
  {
   "cell_type": "markdown",
   "source": [
    "# 第1章 R と統計学"
   ],
   "metadata": {
    "collapsed": false
   }
  },
  {
   "cell_type": "markdown",
   "source": [
    "## 1.4 R をさわってみよう"
   ],
   "metadata": {
    "collapsed": false
   }
  },
  {
   "cell_type": "markdown",
   "source": [
    "### 1.4.2 基本的な操作の概要"
   ],
   "metadata": {
    "collapsed": false
   }
  },
  {
   "cell_type": "code",
   "execution_count": 1,
   "id": "a300ea20-d5c7-44b6-906c-8909f7ce0267",
   "metadata": {},
   "outputs": [
    {
     "data": {
      "text/html": "8",
      "text/markdown": "8",
      "text/latex": "8",
      "text/plain": "[1] 8"
     },
     "metadata": {},
     "output_type": "display_data"
    }
   ],
   "source": [
    "3 + 5"
   ]
  },
  {
   "cell_type": "code",
   "execution_count": 2,
   "outputs": [
    {
     "data": {
      "text/html": "7",
      "text/markdown": "7",
      "text/latex": "7",
      "text/plain": "[1] 7"
     },
     "metadata": {},
     "output_type": "display_data"
    }
   ],
   "source": [
    "10 - 3"
   ],
   "metadata": {
    "collapsed": false
   }
  },
  {
   "cell_type": "code",
   "execution_count": 3,
   "outputs": [
    {
     "data": {
      "text/html": "6",
      "text/markdown": "6",
      "text/latex": "6",
      "text/plain": "[1] 6"
     },
     "metadata": {},
     "output_type": "display_data"
    }
   ],
   "source": [
    "2 * 3"
   ],
   "metadata": {
    "collapsed": false
   }
  },
  {
   "cell_type": "code",
   "execution_count": 4,
   "outputs": [
    {
     "data": {
      "text/html": "5",
      "text/markdown": "5",
      "text/latex": "5",
      "text/plain": "[1] 5"
     },
     "metadata": {},
     "output_type": "display_data"
    }
   ],
   "source": [
    "20 / 4"
   ],
   "metadata": {
    "collapsed": false
   }
  },
  {
   "cell_type": "code",
   "execution_count": 5,
   "outputs": [
    {
     "data": {
      "text/html": "4",
      "text/markdown": "4",
      "text/latex": "4",
      "text/plain": "[1] 4"
     },
     "metadata": {},
     "output_type": "display_data"
    }
   ],
   "source": [
    "sqrt(16)"
   ],
   "metadata": {
    "collapsed": false
   }
  },
  {
   "cell_type": "code",
   "execution_count": 6,
   "outputs": [
    {
     "data": {
      "text/html": "0.301029995663981",
      "text/markdown": "0.301029995663981",
      "text/latex": "0.301029995663981",
      "text/plain": "[1] 0.30103"
     },
     "metadata": {},
     "output_type": "display_data"
    }
   ],
   "source": [
    "log(2, base = 10)"
   ],
   "metadata": {
    "collapsed": false
   }
  },
  {
   "cell_type": "code",
   "execution_count": 7,
   "outputs": [
    {
     "data": {
      "text/html": "'Sat Dec 31 09:47:19 2022'",
      "text/markdown": "'Sat Dec 31 09:47:19 2022'",
      "text/latex": "'Sat Dec 31 09:47:19 2022'",
      "text/plain": "[1] \"Sat Dec 31 09:47:19 2022\""
     },
     "metadata": {},
     "output_type": "display_data"
    }
   ],
   "source": [
    "date()"
   ],
   "metadata": {
    "collapsed": false
   }
  },
  {
   "cell_type": "code",
   "execution_count": 8,
   "outputs": [
    {
     "data": {
      "text/html": "4",
      "text/markdown": "4",
      "text/latex": "4",
      "text/plain": "[1] 4"
     },
     "metadata": {},
     "output_type": "display_data"
    }
   ],
   "source": [
    "2^2"
   ],
   "metadata": {
    "collapsed": false
   }
  },
  {
   "cell_type": "markdown",
   "source": [
    "## 1.5 R をもっとさわってみよう"
   ],
   "metadata": {
    "collapsed": false
   }
  },
  {
   "cell_type": "markdown",
   "source": [
    "### 1.5.1 R を使った統計"
   ],
   "metadata": {
    "collapsed": false
   }
  },
  {
   "cell_type": "code",
   "execution_count": 9,
   "outputs": [
    {
     "data": {
      "text/plain": "   Min. 1st Qu.  Median    Mean 3rd Qu.    Max. \n  173.0   175.0   179.0   179.4   181.5   192.0 "
     },
     "metadata": {},
     "output_type": "display_data"
    }
   ],
   "source": [
    "summary(c(173, 178, 180, 183, 182, 174, 179, 179, 174, 192))"
   ],
   "metadata": {
    "collapsed": false
   }
  },
  {
   "cell_type": "markdown",
   "source": [
    "## 1.6 R の使い方のコツ"
   ],
   "metadata": {
    "collapsed": false
   }
  },
  {
   "cell_type": "markdown",
   "source": [
    "### 1.6.1 複数の値をまとめて扱う"
   ],
   "metadata": {
    "collapsed": false
   }
  },
  {
   "cell_type": "code",
   "execution_count": 10,
   "outputs": [],
   "source": [
    "身長 <- c(173, 178, 180, 183, 182, 174, 179, 179, 174, 192)"
   ],
   "metadata": {
    "collapsed": false
   }
  },
  {
   "cell_type": "code",
   "execution_count": 11,
   "outputs": [
    {
     "data": {
      "text/html": "<style>\n.list-inline {list-style: none; margin:0; padding: 0}\n.list-inline>li {display: inline-block}\n.list-inline>li:not(:last-child)::after {content: \"\\00b7\"; padding: 0 .5ex}\n</style>\n<ol class=list-inline><li>173</li><li>178</li><li>180</li><li>183</li><li>182</li><li>174</li><li>179</li><li>179</li><li>174</li><li>192</li></ol>\n",
      "text/markdown": "1. 173\n2. 178\n3. 180\n4. 183\n5. 182\n6. 174\n7. 179\n8. 179\n9. 174\n10. 192\n\n\n",
      "text/latex": "\\begin{enumerate*}\n\\item 173\n\\item 178\n\\item 180\n\\item 183\n\\item 182\n\\item 174\n\\item 179\n\\item 179\n\\item 174\n\\item 192\n\\end{enumerate*}\n",
      "text/plain": " [1] 173 178 180 183 182 174 179 179 174 192"
     },
     "metadata": {},
     "output_type": "display_data"
    }
   ],
   "source": [
    "身長"
   ],
   "metadata": {
    "collapsed": false
   }
  },
  {
   "cell_type": "code",
   "execution_count": 12,
   "outputs": [],
   "source": [
    "ホークス <- matrix(\n",
    "  c(\n",
    "    173, 178, 180, 183, 182, 174, 179, 179, 174, 192,\n",
    "    17000, 14000, 9000, 50000, 30000, 12000, 900, 2100, 1000, 25000\n",
    "  ),\n",
    "  10, 2\n",
    ")"
   ],
   "metadata": {
    "collapsed": false
   }
  },
  {
   "cell_type": "code",
   "execution_count": 13,
   "outputs": [
    {
     "data": {
      "text/html": "<table class=\"dataframe\">\n<caption>A matrix: 10 × 2 of type dbl</caption>\n<tbody>\n\t<tr><td>173</td><td>17000</td></tr>\n\t<tr><td>178</td><td>14000</td></tr>\n\t<tr><td>180</td><td> 9000</td></tr>\n\t<tr><td>183</td><td>50000</td></tr>\n\t<tr><td>182</td><td>30000</td></tr>\n\t<tr><td>174</td><td>12000</td></tr>\n\t<tr><td>179</td><td>  900</td></tr>\n\t<tr><td>179</td><td> 2100</td></tr>\n\t<tr><td>174</td><td> 1000</td></tr>\n\t<tr><td>192</td><td>25000</td></tr>\n</tbody>\n</table>\n",
      "text/markdown": "\nA matrix: 10 × 2 of type dbl\n\n| 173 | 17000 |\n| 178 | 14000 |\n| 180 |  9000 |\n| 183 | 50000 |\n| 182 | 30000 |\n| 174 | 12000 |\n| 179 |   900 |\n| 179 |  2100 |\n| 174 |  1000 |\n| 192 | 25000 |\n\n",
      "text/latex": "A matrix: 10 × 2 of type dbl\n\\begin{tabular}{ll}\n\t 173 & 17000\\\\\n\t 178 & 14000\\\\\n\t 180 &  9000\\\\\n\t 183 & 50000\\\\\n\t 182 & 30000\\\\\n\t 174 & 12000\\\\\n\t 179 &   900\\\\\n\t 179 &  2100\\\\\n\t 174 &  1000\\\\\n\t 192 & 25000\\\\\n\\end{tabular}\n",
      "text/plain": "      [,1] [,2] \n [1,] 173  17000\n [2,] 178  14000\n [3,] 180   9000\n [4,] 183  50000\n [5,] 182  30000\n [6,] 174  12000\n [7,] 179    900\n [8,] 179   2100\n [9,] 174   1000\n[10,] 192  25000"
     },
     "metadata": {},
     "output_type": "display_data"
    }
   ],
   "source": [
    "ホークス"
   ],
   "metadata": {
    "collapsed": false
   }
  },
  {
   "cell_type": "markdown",
   "source": [
    "### 1.6.2 外部データファイルを読み込んでみよう"
   ],
   "metadata": {
    "collapsed": false
   }
  },
  {
   "cell_type": "code",
   "execution_count": 14,
   "outputs": [],
   "source": [
    "ホークス2 <- read.csv(\"dataset/hawks.csv\")"
   ],
   "metadata": {
    "collapsed": false
   }
  },
  {
   "cell_type": "code",
   "execution_count": 15,
   "outputs": [
    {
     "data": {
      "text/html": "<table class=\"dataframe\">\n<caption>A data.frame: 10 × 2</caption>\n<thead>\n\t<tr><th scope=col>height</th><th scope=col>salary</th></tr>\n\t<tr><th scope=col>&lt;int&gt;</th><th scope=col>&lt;int&gt;</th></tr>\n</thead>\n<tbody>\n\t<tr><td>173</td><td>17000</td></tr>\n\t<tr><td>178</td><td>14000</td></tr>\n\t<tr><td>180</td><td> 9000</td></tr>\n\t<tr><td>183</td><td>50000</td></tr>\n\t<tr><td>182</td><td>30000</td></tr>\n\t<tr><td>174</td><td>12000</td></tr>\n\t<tr><td>179</td><td>  900</td></tr>\n\t<tr><td>179</td><td> 2100</td></tr>\n\t<tr><td>174</td><td> 1000</td></tr>\n\t<tr><td>192</td><td>25000</td></tr>\n</tbody>\n</table>\n",
      "text/markdown": "\nA data.frame: 10 × 2\n\n| height &lt;int&gt; | salary &lt;int&gt; |\n|---|---|\n| 173 | 17000 |\n| 178 | 14000 |\n| 180 |  9000 |\n| 183 | 50000 |\n| 182 | 30000 |\n| 174 | 12000 |\n| 179 |   900 |\n| 179 |  2100 |\n| 174 |  1000 |\n| 192 | 25000 |\n\n",
      "text/latex": "A data.frame: 10 × 2\n\\begin{tabular}{ll}\n height & salary\\\\\n <int> & <int>\\\\\n\\hline\n\t 173 & 17000\\\\\n\t 178 & 14000\\\\\n\t 180 &  9000\\\\\n\t 183 & 50000\\\\\n\t 182 & 30000\\\\\n\t 174 & 12000\\\\\n\t 179 &   900\\\\\n\t 179 &  2100\\\\\n\t 174 &  1000\\\\\n\t 192 & 25000\\\\\n\\end{tabular}\n",
      "text/plain": "   height salary\n1  173    17000 \n2  178    14000 \n3  180     9000 \n4  183    50000 \n5  182    30000 \n6  174    12000 \n7  179      900 \n8  179     2100 \n9  174     1000 \n10 192    25000 "
     },
     "metadata": {},
     "output_type": "display_data"
    }
   ],
   "source": [
    "ホークス2"
   ],
   "metadata": {
    "collapsed": false
   }
  },
  {
   "cell_type": "markdown",
   "source": [
    "### 1.6.3 関数を作ってみよう"
   ],
   "metadata": {
    "collapsed": false
   }
  },
  {
   "cell_type": "code",
   "execution_count": 16,
   "outputs": [],
   "source": [
    "varp <- function(x) {\n",
    "  標本分散 <- var(x) * (length(x) - 1) / length(x)\n",
    "  標本分散\n",
    "}"
   ],
   "metadata": {
    "collapsed": false
   }
  },
  {
   "cell_type": "code",
   "execution_count": 17,
   "outputs": [
    {
     "data": {
      "text/html": "<style>\n.list-inline {list-style: none; margin:0; padding: 0}\n.list-inline>li {display: inline-block}\n.list-inline>li:not(:last-child)::after {content: \"\\00b7\"; padding: 0 .5ex}\n</style>\n<ol class=list-inline><li>10</li><li>13</li><li>8</li><li>15</li><li>8</li></ol>\n",
      "text/markdown": "1. 10\n2. 13\n3. 8\n4. 15\n5. 8\n\n\n",
      "text/latex": "\\begin{enumerate*}\n\\item 10\n\\item 13\n\\item 8\n\\item 15\n\\item 8\n\\end{enumerate*}\n",
      "text/plain": "[1] 10 13  8 15  8"
     },
     "metadata": {},
     "output_type": "display_data"
    }
   ],
   "source": [
    "x <- c(10, 13, 8, 15, 8)\n",
    "x"
   ],
   "metadata": {
    "collapsed": false
   }
  },
  {
   "cell_type": "code",
   "execution_count": 18,
   "outputs": [
    {
     "data": {
      "text/html": "9.7",
      "text/markdown": "9.7",
      "text/latex": "9.7",
      "text/plain": "[1] 9.7"
     },
     "metadata": {},
     "output_type": "display_data"
    }
   ],
   "source": [
    "var(x)"
   ],
   "metadata": {
    "collapsed": false
   }
  },
  {
   "cell_type": "code",
   "execution_count": 19,
   "outputs": [
    {
     "data": {
      "text/html": "7.76",
      "text/markdown": "7.76",
      "text/latex": "7.76",
      "text/plain": "[1] 7.76"
     },
     "metadata": {},
     "output_type": "display_data"
    }
   ],
   "source": [
    "varp(x)"
   ],
   "metadata": {
    "collapsed": false
   }
  }
 ],
 "metadata": {
  "kernelspec": {
   "display_name": "R",
   "language": "R",
   "name": "ir"
  },
  "language_info": {
   "codemirror_mode": "r",
   "file_extension": ".r",
   "mimetype": "text/x-r-source",
   "name": "R",
   "pygments_lexer": "r",
   "version": "4.2.2"
  }
 },
 "nbformat": 4,
 "nbformat_minor": 5
}
